{
 "cells": [
  {
   "cell_type": "code",
   "execution_count": 2,
   "metadata": {
    "collapsed": true
   },
   "outputs": [],
   "source": [
    "from selenium import webdriver\n",
    "import time\n",
    "from bs4 import BeautifulSoup\n",
    "from selenium.webdriver.common.by import By\n",
    "from selenium.webdriver.common.keys import Keys\n",
    "from tqdm import tqdm"
   ]
  },
  {
   "cell_type": "code",
   "execution_count": 39,
   "outputs": [],
   "source": [
    "# Loading buffer\n",
    "sleepConstant = 3\n",
    "# target = 'https://www.duckduckgo.com/'\n",
    "target = 'https://www.bing.com/'\n",
    "job_titles = ['administrative assistant',\n",
    " 'author',\n",
    " 'biologist',\n",
    " 'bus driver',\n",
    " 'chef',\n",
    " 'chief executive officer',\n",
    " 'claims adjuster',\n",
    " 'computer programmer',\n",
    " 'cook',\n",
    " 'custodian',\n",
    " 'doctor',\n",
    " 'electrician',\n",
    " 'garbage collector',\n",
    " 'housekeeper',\n",
    " 'librarian',\n",
    " 'nurse',\n",
    " 'optician',\n",
    " 'pharmacist',\n",
    " 'pilot',\n",
    " 'police officer',\n",
    " 'primary school teacher',\n",
    " 'roofer',\n",
    " 'software developer',\n",
    " 'tax collector',\n",
    " 'telemarketer',\n",
    " 'veterinarian']\n"
   ],
   "metadata": {
    "collapsed": false,
    "pycharm": {
     "name": "#%%\n"
    }
   }
  },
  {
   "cell_type": "code",
   "execution_count": 6,
   "outputs": [],
   "source": [
    "def initialize():\n",
    "    driver = webdriver.Firefox()\n",
    "    driver.get(target)\n",
    "    return driver"
   ],
   "metadata": {
    "collapsed": false,
    "pycharm": {
     "name": "#%%\n"
    }
   }
  },
  {
   "cell_type": "code",
   "execution_count": 33,
   "outputs": [],
   "source": [
    "def search(driver, query):\n",
    "    # duckduckgo variant\n",
    "    # textfield = driver.find_element(By.CLASS_NAME, 'js-search-input')\n",
    "    textfield = driver.find_element(By.CLASS_NAME, 'sb_form_q')\n",
    "    textfield.send_keys(query)\n",
    "    textfield.send_keys(Keys.ENTER)\n",
    "    return None"
   ],
   "metadata": {
    "collapsed": false,
    "pycharm": {
     "name": "#%%\n"
    }
   }
  },
  {
   "cell_type": "code",
   "execution_count": 23,
   "outputs": [],
   "source": [
    "def goto_images(driver):\n",
    "    try:\n",
    "        image = driver.find_element_by_xpath(\"// a[contains(text(),\\\n",
    "'Images')]\")\n",
    "        image.click()\n",
    "        return True\n",
    "    except Exception as e:\n",
    "        print('Error in images: ', str(e))\n",
    "        return False"
   ],
   "metadata": {
    "collapsed": false,
    "pycharm": {
     "name": "#%%\n"
    }
   }
  },
  {
   "cell_type": "code",
   "execution_count": 36,
   "outputs": [],
   "source": [
    "#make sure folder named data exists in the directory of the project!\n",
    "\n",
    "def save_to_file(driver, query):\n",
    "    with open(f'data/{query}.html', 'w', encoding='utf-8') as fout:\n",
    "        fout.write(driver.page_source)\n",
    "\n",
    "def read_from_file(query):\n",
    "    with open(f'data/{query}.html', 'r', encoding='utf-8') as fin:\n",
    "        return fin.read()\n",
    "\n",
    "def scrape(query):\n",
    "    driver = initialize()\n",
    "    search(driver, query)\n",
    "    time.sleep(sleepConstant)\n",
    "    goto_images(driver)\n",
    "    time.sleep(sleepConstant)\n",
    "    save_to_file(driver, query)\n",
    "    driver.close()"
   ],
   "metadata": {
    "collapsed": false,
    "pycharm": {
     "name": "#%%\n"
    }
   }
  },
  {
   "cell_type": "code",
   "execution_count": 37,
   "outputs": [],
   "source": [
    "# Testing a single query\n",
    "query = 'query'\n",
    "driver = initialize()\n",
    "search(driver, query)\n",
    "goto_images(driver)\n",
    "time.sleep(sleepConstant)\n",
    "save_to_file(driver, query)\n",
    "driver.close()"
   ],
   "metadata": {
    "collapsed": false,
    "pycharm": {
     "name": "#%%\n"
    }
   }
  },
  {
   "cell_type": "code",
   "execution_count": 40,
   "outputs": [
    {
     "name": "stderr",
     "output_type": "stream",
     "text": [
      "100%|██████████| 26/26 [08:23<00:00, 19.38s/it]\n"
     ]
    }
   ],
   "source": [
    "# Gather all the data\n",
    "for job_title in tqdm(job_titles):\n",
    "    scrape(job_title)\n",
    "    time.sleep(3)"
   ],
   "metadata": {
    "collapsed": false,
    "pycharm": {
     "name": "#%%\n"
    }
   }
  },
  {
   "cell_type": "code",
   "execution_count": null,
   "outputs": [],
   "source": [],
   "metadata": {
    "collapsed": false,
    "pycharm": {
     "name": "#%%\n"
    }
   }
  }
 ],
 "metadata": {
  "kernelspec": {
   "display_name": "Python 3",
   "language": "python",
   "name": "python3"
  },
  "language_info": {
   "codemirror_mode": {
    "name": "ipython",
    "version": 2
   },
   "file_extension": ".py",
   "mimetype": "text/x-python",
   "name": "python",
   "nbconvert_exporter": "python",
   "pygments_lexer": "ipython2",
   "version": "2.7.6"
  }
 },
 "nbformat": 4,
 "nbformat_minor": 0
}