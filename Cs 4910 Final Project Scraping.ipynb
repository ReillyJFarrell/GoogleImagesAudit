{
 "cells": [
  {
   "cell_type": "code",
   "execution_count": 16,
   "metadata": {},
   "outputs": [],
   "source": [
    "from selenium import webdriver\n",
    "import time\n",
    "from bs4 import BeautifulSoup\n",
    "from tqdm import tqdm\n",
    "from selenium.webdriver.common.by import By\n",
    "from selenium.webdriver.common.keys import Keys"
   ]
  },
  {
   "cell_type": "code",
   "execution_count": 5,
   "metadata": {},
   "outputs": [],
   "source": [
    "def initialize():  \n",
    "    driver = webdriver.Firefox()\n",
    "    driver.get('https://www.google.com/')\n",
    "    return driver"
   ]
  },
  {
   "cell_type": "code",
   "execution_count": 6,
   "metadata": {},
   "outputs": [],
   "source": [
    "def search(driver, query):\n",
    "    textfield = driver.find_element_by_class_name('gLFyf')\n",
    "    textfield.send_keys(query)\n",
    "    textfield.send_keys(Keys.ENTER)\n",
    "    return None"
   ]
  },
  {
   "cell_type": "code",
   "execution_count": 7,
   "metadata": {},
   "outputs": [],
   "source": [
    "def goto_images(driver):\n",
    "    # find the Images link and click on it.\n",
    "    try:\n",
    "        image = driver.find_element_by_xpath(\"// a[contains(text(),\\\n",
    "'Images')]\")\n",
    "        image.click()\n",
    "        return True\n",
    "    except Exception as e:\n",
    "        print('Error in images: ', str(e))\n",
    "        return False\n"
   ]
  },
  {
   "cell_type": "code",
   "execution_count": 8,
   "metadata": {},
   "outputs": [],
   "source": [
    "def search(driver, query):\n",
    "    textfield = driver.find_element(By.CLASS_NAME, 'gLFyf')\n",
    "    textfield.send_keys(query)\n",
    "    textfield.send_keys(Keys.ENTER)\n",
    "    return None"
   ]
  },
  {
   "cell_type": "code",
   "execution_count": 9,
   "metadata": {},
   "outputs": [],
   "source": [
    "def goto_images(driver):\n",
    "    try:\n",
    "        image = driver.find_element_by_xpath(\"// a[contains(text(),\\\n",
    "'Images')]\")\n",
    "        image.click()\n",
    "        return True\n",
    "    except Exception as e:\n",
    "        print('Error in images: ', str(e))\n",
    "        return False"
   ]
  },
  {
   "cell_type": "code",
   "execution_count": 10,
   "metadata": {},
   "outputs": [],
   "source": [
    "titles = []\n",
    "def scrape(query):\n",
    "    driver = initialize()\n",
    "    search(driver, query)\n",
    "    time.sleep(3) # letting the results site load\n",
    "    goto_images(driver)\n",
    "    time.sleep(3) # letting the image site load\n",
    "    save_to_file(driver, query)\n",
    "    driver.close()"
   ]
  },
  {
   "cell_type": "code",
   "execution_count": 11,
   "metadata": {},
   "outputs": [],
   "source": [
    "def scrapeImageText(term):\n",
    "    titles = []\n",
    "    search(driver, term)\n",
    "    time.sleep(3) # letting the results site load\n",
    "    goto_images(driver)\n",
    "    time.sleep(3)\n",
    "    items = driver.find_elements(By.CLASS_NAME, 'Q4LuWd')\n",
    "    for item in items:\n",
    "        #pressing the right arrow key is an alternate way to do this\n",
    "        item.click()\n",
    "        titleTargets = driver.find_elements(By.CLASS_NAME, 'eYbsle')\n",
    "        ii = 0\n",
    "        for tar in titleTargets:\n",
    "            toAdd = tar.text\n",
    "            if toAdd != '':\n",
    "                titles.append([term, toAdd])\n",
    "                ii = -1\n",
    "                break\n",
    "            else:\n",
    "                ii += 1\n",
    "        if(ii != -1):\n",
    "            titles.append([term, 'N/A'])\n",
    "    return titles\n",
    "            \n",
    "    "
   ]
  },
  {
   "cell_type": "code",
   "execution_count": 12,
   "metadata": {},
   "outputs": [],
   "source": [
    "import itertools\n",
    "\n",
    "countries = [\n",
    "    \"Abkhazian\",\n",
    "    \"Afghan\",\n",
    "    \"Åland Island\",\n",
    "    \"Albanian\",\n",
    "    \"Algerian\",\n",
    "    \"American Samoan\",\n",
    "    \"Andorran\",\n",
    "    \"Angolan\",\n",
    "    \"Anguillan\",\n",
    "    \"Antarctic\",\n",
    "    \"Antiguan\",\n",
    "    \"Argentine\",\n",
    "    \"Armenian\",\n",
    "    \"Aruban\",\n",
    "    \"Australian\",\n",
    "    \"Austrian\",\n",
    "    \"Azerbaijani\",\n",
    "    \"Bahamian\",\n",
    "    \"Bahraini\",\n",
    "    \"Bangladeshi\",\n",
    "    \"Barbadian\",\n",
    "    \"Belarusian\",\n",
    "    \"Belgian\",\n",
    "    \"Belizean\",\n",
    "    \"Beninese\",\n",
    "    \"Bermudian\",\n",
    "    \"Bhutanese\",\n",
    "    \"Bolivian\",\n",
    "    \"Bonairean\",\n",
    "    \"Bosnian\",\n",
    "    \"Botswanan\",\n",
    "    \"Bouvet Island\",\n",
    "    \"Brazilian\",\n",
    "    \"Bruneian\",\n",
    "    \"Bulgarian\",\n",
    "    \"Burkinabé\",\n",
    "    \"Burmese\",\n",
    "    \"Burundian\",\n",
    "    \"Cabo Verdean\",\n",
    "    \"Cambodian\",\n",
    "    \"Cameroonian\",\n",
    "    \"Canadian\",\n",
    "    \"Caymanian\",\n",
    "    \"Central African\",\n",
    "    \"Chadian\",\n",
    "    \"Chilean\",\n",
    "    \"Chinese\",\n",
    "    \"Christmas Island\",\n",
    "    \"Cocos Island\",\n",
    "    \"Colombian\",\n",
    "    \"Comoran\",\n",
    "    \"Congolese\",\n",
    "    \"Cook Island\",\n",
    "    \"Costa Rican\",\n",
    "    \"Croatian\",\n",
    "    \"Cuban\",\n",
    "    \"Curaçaoan\",\n",
    "    \"Cypriot\",\n",
    "    \"Czech\",\n",
    "    \"Danish\",\n",
    "    \"Djiboutian\",\n",
    "    \"Dominican\",\n",
    "    \"Timorese\",\n",
    "    \"Ecuadorian\",\n",
    "    \"Egyptian\",\n",
    "    \"Salvadoran\",\n",
    "    \"English\",\n",
    "    \"Equatorial Guinean\",\n",
    "    \"Eritrean\",\n",
    "    \"Estonian\",\n",
    "    \"Swazi\",\n",
    "    \"Ethiopian\",\n",
    "    \"Falkland Island\",\n",
    "    \"Faroese\",\n",
    "    \"Fijian\",\n",
    "    \"Finnish\",\n",
    "    \"French\",\n",
    "    \"French Guianese\",\n",
    "    \"French Polynesian\",\n",
    "    \"Gabonese\",\n",
    "    \"Gambian\",\n",
    "    \"Georgian\",\n",
    "    \"German\",\n",
    "    \"Ghanaian\",\n",
    "    \"Gibraltar\",\n",
    "    \"Greek\",\n",
    "    \"Greenland\",\n",
    "    \"Grenadian\",\n",
    "    \"Guadeloupe\",\n",
    "    \"Guamanian\",\n",
    "    \"Guatemalan\",\n",
    "    \"Guernsey\",\n",
    "    \"Guinean\",\n",
    "    \"Bissau-Guinean\",\n",
    "    \"Guyanese\",\n",
    "    \"Haitian\",\n",
    "    \"Honduran\",\n",
    "    \"Cantonese\",\n",
    "    \"Hungarian\",\n",
    "    \"Icelandic\",\n",
    "    \"Indian\",\n",
    "    \"Indonesian\",\n",
    "    \"Iranian\",\n",
    "    \"Iraqi\",\n",
    "    \"Irish\",\n",
    "    \"Manx\",\n",
    "    \"Israeli\",\n",
    "    \"Italian\",\n",
    "    \"Ivorian\",\n",
    "    \"Jamaican\",\n",
    "    \"Jan Mayen\",\n",
    "    \"Japanese\",\n",
    "    \"Jersey\",\n",
    "    \"Jordanian\",\n",
    "    \"Kazakhstani\",\n",
    "    \"Kenyan\",\n",
    "    \"Kiribati\",\n",
    "    \"North Korean\",\n",
    "    \"South Korean\",\n",
    "    \"Kosovan\",\n",
    "    \"Kuwaiti\",\n",
    "    \"Kyrgyzstani\",\n",
    "    \"Laotian\",\n",
    "    \"Latvian\",\n",
    "    \"Lebanese\",\n",
    "    \"Basotho\",\n",
    "    \"Liberian\",\n",
    "    \"Libyan\",\n",
    "    \"Liechtensteiner\",\n",
    "    \"Lithuanian\",\n",
    "    \"Luxembourg\",\n",
    "    \"Macanese\",\n",
    "    \"Malagasy\",\n",
    "    \"Malawian\",\n",
    "    \"Malaysian\",\n",
    "    \"Maldivian\",\n",
    "    \"Malian\",\n",
    "    \"Maltese\",\n",
    "    \"Marshallese\",\n",
    "    \"Martinican\",\n",
    "    \"Mauritanian\",\n",
    "    \"Mauritian\",\n",
    "    \"Mahoran\",\n",
    "    \"Mexican\",\n",
    "    \"Micronesian\",\n",
    "    \"Moldovan\",\n",
    "    \"Monacan\",\n",
    "    \"Mongolian\",\n",
    "    \"Montenegrin\",\n",
    "    \"Montserratian\",\n",
    "    \"Moroccan\",\n",
    "    \"Mozambican\",\n",
    "    \"Burmese\",\n",
    "    \"Namibian\",\n",
    "    \"Nauruan\",\n",
    "    \"Nepali\",\n",
    "    \"Dutch\",\n",
    "    \"New Caledonian\",\n",
    "    \"New Zealand\",\n",
    "    \"Nicaraguan\",\n",
    "    \"Nigerien\",\n",
    "    \"Nigerian\",\n",
    "    \"Niuean\",\n",
    "    \"Norfolk Island\",\n",
    "    \"Macedonian\",\n",
    "    \"Northern Irish\",\n",
    "    \"Northern Marianan\",\n",
    "    \"Norwegian\",\n",
    "    \"Omani\",\n",
    "    \"Pakistani\",\n",
    "    \"Palauan\",\n",
    "    \"Palestinian\",\n",
    "    \"Panamanian\",\n",
    "    \"Papua New Guinean\",\n",
    "    \"Paraguayan\",\n",
    "    \"Peruvian\",\n",
    "    \"Filipino\",\n",
    "    \"Polish\",\n",
    "    \"Portuguese\",\n",
    "    \"Puerto Rican\",\n",
    "    \"Qatari\",\n",
    "    \"Réunionese\",\n",
    "    \"Romanian\",\n",
    "    \"Russian\",\n",
    "    \"Rwandan\",\n",
    "    \"Saban\",\n",
    "    \"Barthélemois\",\n",
    "    \"Saint Helenian\",\n",
    "    \"Kittitian\",\n",
    "    \"Saint Lucian\",\n",
    "    \"Saint-Martinoise\",\n",
    "    \"Saint-Pierrais\",\n",
    "    \"Vincentian\",\n",
    "    \"Sahrawi\",\n",
    "    \"Samoan\",\n",
    "    \"Sammarinese\",\n",
    "    \"São Toméan\",\n",
    "    \"Saudi\",\n",
    "    \"Scottish\",\n",
    "    \"Senegalese\",\n",
    "    \"Serbian\",\n",
    "    \"Seychellois\",\n",
    "    \"Sierra Leonean\",\n",
    "    \"Singaporean\",\n",
    "    \"Statian\",\n",
    "    \"Sint Maarten\",\n",
    "    \"Slovak\",\n",
    "    \"Slovenian\",\n",
    "    \"Solomon Island\",\n",
    "    \"Somali\",\n",
    "    \"Somalilander\",\n",
    "    \"South African\",\n",
    "    \"South Georgia Island\",\n",
    "    \"South Ossetian\",\n",
    "    \"South Sudanese\",\n",
    "    \"Spanish\",\n",
    "    \"Sri Lankan\",\n",
    "    \"Sudanese\",\n",
    "    \"Surinamese\",\n",
    "    \"Svalbard\",\n",
    "    \"Swedish\",\n",
    "    \"Swiss\",\n",
    "    \"Syrian\",\n",
    "    \"Taiwanese\",\n",
    "    \"Tajikistani\",\n",
    "    \"Tanzanian\",\n",
    "    \"Thai\",\n",
    "    \"Timorese\",\n",
    "    \"Togolese\",\n",
    "    \"Tokelauan\",\n",
    "    \"Tongan\",\n",
    "    \"Trinidadian\",\n",
    "    \"Tunisian\",\n",
    "    \"Turkish\",\n",
    "    \"Turkmen\",\n",
    "    \"Turks and Caicos Island\",\n",
    "    \"Tuvaluan\",\n",
    "    \"Ugandan\",\n",
    "    \"Ukrainian\",\n",
    "    \"Emirati\",\n",
    "    \"British\",\n",
    "    \"Uruguayan\",\n",
    "    \"Uzbekistani\",\n",
    "    \"Vanuatuan\",\n",
    "    \"Vatican\",\n",
    "    \"Venezuelan\",\n",
    "    \"Vietnamese\",\n",
    "    \"Welsh\",\n",
    "    \"Wallisian\",\n",
    "    \"Sahrawi\",\n",
    "    \"Yemeni\",\n",
    "    \"Zambian\",\n",
    "    \"Zanzibari\",\n",
    "    \"Zimbabwean\"\n",
    "]\n",
    "\n",
    "suffixes = [\"man\", \"woman\", \"person\"]\n",
    "queries = list(map(lambda x: (x[0] + \" \" + x[1]), itertools.product(map(lambda x: x.lower(), countries), suffixes)))"
   ]
  },
  {
   "cell_type": "code",
   "execution_count": 13,
   "metadata": {},
   "outputs": [],
   "source": [
    "import csv"
   ]
  },
  {
   "cell_type": "code",
   "execution_count": 19,
   "metadata": {},
   "outputs": [],
   "source": [
    "header = ['Query', 'Desription']\n"
   ]
  },
  {
   "cell_type": "code",
   "execution_count": 18,
   "metadata": {},
   "outputs": [
    {
     "name": "stderr",
     "output_type": "stream",
     "text": [
      "  2%|█▊                                                                             | 17/762 [08:29<6:24:10, 30.94s/it]"
     ]
    },
    {
     "name": "stdout",
     "output_type": "stream",
     "text": [
      "Error in images:  Message: Unable to locate element: // a[contains(text(),'Images')]\n",
      "\n"
     ]
    },
    {
     "name": "stderr",
     "output_type": "stream",
     "text": [
      " 14%|██████████▋                                                                   | 105/762 [52:13<5:16:32, 28.91s/it]"
     ]
    },
    {
     "name": "stdout",
     "output_type": "stream",
     "text": [
      "Error in images:  Message: TimedPromise timed out after 300000 ms\n",
      "\n"
     ]
    },
    {
     "name": "stderr",
     "output_type": "stream",
     "text": [
      " 22%|████████████████▋                                                           | 167/762 [1:27:32<5:24:06, 32.68s/it]"
     ]
    },
    {
     "name": "stdout",
     "output_type": "stream",
     "text": [
      "Error in images:  Message: TimedPromise timed out after 300000 ms\n",
      "\n"
     ]
    },
    {
     "name": "stderr",
     "output_type": "stream",
     "text": [
      " 35%|██████████████████████████▋                                                 | 267/762 [2:20:10<4:19:14, 31.42s/it]"
     ]
    },
    {
     "name": "stdout",
     "output_type": "stream",
     "text": [
      "Error in images:  Message: Unable to locate element: // a[contains(text(),'Images')]\n",
      "\n"
     ]
    },
    {
     "name": "stderr",
     "output_type": "stream",
     "text": [
      " 72%|███████████████████████████████████████████████████████                     | 552/762 [4:43:44<1:46:55, 30.55s/it]"
     ]
    },
    {
     "name": "stdout",
     "output_type": "stream",
     "text": [
      "Error in images:  Message: Unable to locate element: // a[contains(text(),'Images')]\n",
      "\n"
     ]
    },
    {
     "name": "stderr",
     "output_type": "stream",
     "text": [
      " 80%|█████████████████████████████████████████████████████████████               | 612/762 [5:12:58<1:12:21, 28.94s/it]"
     ]
    },
    {
     "name": "stdout",
     "output_type": "stream",
     "text": [
      "Error in images:  Message: Element <a href=\"/search?q=station+man&source=lnms&tbm=isch&sa=X&ved=2ahUKEwjDoqiliaX3AhUhpIkEHQ9GCTIQ_AUoAHoECAIQCg\"> could not be scrolled into view\n",
      "\n"
     ]
    },
    {
     "name": "stderr",
     "output_type": "stream",
     "text": [
      " 86%|███████████████████████████████████████████████████████████████████▎          | 657/762 [5:34:54<49:21, 28.21s/it]"
     ]
    },
    {
     "name": "stdout",
     "output_type": "stream",
     "text": [
      "Error in images:  Message: Unable to locate element: // a[contains(text(),'Images')]\n",
      "\n"
     ]
    },
    {
     "name": "stderr",
     "output_type": "stream",
     "text": [
      "100%|██████████████████████████████████████████████████████████████████████████████| 762/762 [6:25:53<00:00, 30.38s/it]\n"
     ]
    }
   ],
   "source": [
    "out =  []\n",
    "failed = []\n",
    "for item in tqdm(queries):\n",
    "    driver = initialize()\n",
    "    try: \n",
    "        val = scrapeImageText(item)\n",
    "        out.append(val)\n",
    "        driver.close()\n",
    "    except: \n",
    "        failed.append(item)\n",
    "        driver.close()\n",
    "        continue\n",
    "    \n",
    "    \n",
    "    "
   ]
  },
  {
   "cell_type": "code",
   "execution_count": 23,
   "metadata": {},
   "outputs": [],
   "source": [
    "import csv\n",
    "\n",
    "with open(r'path', 'w', encoding='utf-8', newline='') as f:\n",
    "    writer = csv.writer(f)\n",
    "    writer.writerow(header)\n",
    "    writer.writerows(list(itertools.chain.from_iterable(out)))"
   ]
  },
  {
   "cell_type": "code",
   "execution_count": 27,
   "metadata": {},
   "outputs": [],
   "source": [
    "with open(r'C:\\Users\\A\\Desktop\\CS 4910\\finalProject\\failed.csv', 'w', encoding='utf-8', newline='') as f:\n",
    "    writer = csv.writer(f)\n",
    "    writer.writerow(['failed query'])\n",
    "    writer.writerow(list(failed))"
   ]
  },
  {
   "cell_type": "code",
   "execution_count": 28,
   "metadata": {},
   "outputs": [
    {
     "name": "stdout",
     "output_type": "stream",
     "text": [
      "['albanian woman', 'antiguan man', 'austrian man', 'belgian woman', 'bonairean person', 'burundian man', 'cabo verdean woman', 'caymanian person', 'colombian man', 'croatian person', 'ecuadorian person', 'faroese person', 'french guianese woman', 'georgian person']\n"
     ]
    }
   ],
   "source": [
    "print(failed)"
   ]
  }
 ],
 "metadata": {
  "kernelspec": {
   "display_name": "Python 3",
   "language": "python",
   "name": "python3"
  },
  "language_info": {
   "codemirror_mode": {
    "name": "ipython",
    "version": 3
   },
   "file_extension": ".py",
   "mimetype": "text/x-python",
   "name": "python",
   "nbconvert_exporter": "python",
   "pygments_lexer": "ipython3",
   "version": "3.7.4"
  }
 },
 "nbformat": 4,
 "nbformat_minor": 2
}
